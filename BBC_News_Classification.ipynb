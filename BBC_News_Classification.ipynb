{
  "cells": [
    {
      "cell_type": "markdown",
      "metadata": {
        "id": "view-in-github",
        "colab_type": "text"
      },
      "source": [
        "<a href=\"https://colab.research.google.com/github/3hungdc/Customer_Churn_Telco/blob/main/BBC_News_Classification.ipynb\" target=\"_parent\"><img src=\"https://colab.research.google.com/assets/colab-badge.svg\" alt=\"Open In Colab\"/></a>"
      ]
    },
    {
      "cell_type": "code",
      "execution_count": null,
      "metadata": {
        "colab": {
          "base_uri": "https://localhost:8080/"
        },
        "id": "G9YWi85JWMVf",
        "outputId": "cf5227ac-148b-4064-8637-5f3b9aad7643"
      },
      "outputs": [
        {
          "output_type": "stream",
          "name": "stdout",
          "text": [
            "[nltk_data] Downloading package stopwords to /root/nltk_data...\n",
            "[nltk_data]   Unzipping corpora/stopwords.zip.\n",
            "[nltk_data] Downloading package wordnet to /root/nltk_data...\n",
            "[nltk_data]   Unzipping corpora/wordnet.zip.\n"
          ]
        }
      ],
      "source": [
        "import os\n",
        "import pandas as pd\n",
        "import seaborn as sns\n",
        "import numpy as np\n",
        "import matplotlib.pyplot as plt\n",
        "import time\n",
        "from sklearn.model_selection import train_test_split\n",
        "from sklearn.preprocessing import LabelEncoder\n",
        "from sklearn.pipeline import Pipeline\n",
        "from sklearn.model_selection import GridSearchCV\n",
        "from sklearn.linear_model import LogisticRegression\n",
        "from sklearn.svm import SVC\n",
        "from sklearn.naive_bayes import GaussianNB\n",
        "from sklearn.naive_bayes import MultinomialNB\n",
        "from sklearn.ensemble import RandomForestClassifier\n",
        "from sklearn.tree import DecisionTreeClassifier\n",
        "from sklearn.neural_network import MLPClassifier\n",
        "from sklearn.model_selection import GridSearchCV, cross_val_score\n",
        "from sklearn.ensemble import GradientBoostingClassifier\n",
        "from sklearn.metrics import precision_score, recall_score, f1_score, accuracy_score, confusion_matrix, plot_confusion_matrix, plot_roc_curve,roc_auc_score\n",
        "from sklearn.feature_extraction.text import CountVectorizer\n",
        "from sklearn import preprocessing\n",
        "import pickle\n",
        "\n",
        "import nltk\n",
        "import nltk\n",
        "nltk.download('stopwords')\n",
        "nltk.download('wordnet')\n",
        "import warnings\n",
        "warnings.filterwarnings(\"ignore\")\n",
        "import re"
      ]
    },
    {
      "cell_type": "markdown",
      "metadata": {
        "id": "q9B1Hv41WMVj"
      },
      "source": [
        "### Đọc Data và Clean dữ liệu"
      ]
    },
    {
      "cell_type": "code",
      "execution_count": null,
      "metadata": {
        "id": "hicMlFVMWMVk"
      },
      "outputs": [],
      "source": [
        "# Đọc dữ liệu từ folder test\n",
        "def read_data(data_folder):\n",
        "    news = []\n",
        "    types = []\n",
        "    count = 0\n",
        "    for root, dirs, files in os.walk(data_folder, topdown=False):\n",
        "        if len(dirs) != 0:\n",
        "            folder_file = dirs\n",
        "\n",
        "\n",
        "    for root, dirs, files in os.walk(data_folder, topdown=False):               \n",
        "            if len(dirs) == 0:\n",
        "                for text_file in files:\n",
        "                    text_file = os.path.join(root, text_file)\n",
        "                    with open(text_file, errors = 'replace') as f:\n",
        "                        text = f.readlines()\n",
        "                    text = \" \".join(text)\n",
        "                    news.append(text)\n",
        "                    types.append(folder_file[count])\n",
        "                count += 1\n",
        "    df = {'Text': news,'Category': types}\n",
        "    df = pd.DataFrame(df)\n",
        "    return df\n"
      ]
    },
    {
      "cell_type": "code",
      "execution_count": null,
      "metadata": {
        "id": "2BQmyrltWMVl",
        "outputId": "54ffbd2c-61e4-446a-89f4-c98a0c1f1e76"
      },
      "outputs": [
        {
          "data": {
            "text/html": [
              "<div>\n",
              "<style scoped>\n",
              "    .dataframe tbody tr th:only-of-type {\n",
              "        vertical-align: middle;\n",
              "    }\n",
              "\n",
              "    .dataframe tbody tr th {\n",
              "        vertical-align: top;\n",
              "    }\n",
              "\n",
              "    .dataframe thead th {\n",
              "        text-align: right;\n",
              "    }\n",
              "</style>\n",
              "<table border=\"1\" class=\"dataframe\">\n",
              "  <thead>\n",
              "    <tr style=\"text-align: right;\">\n",
              "      <th></th>\n",
              "      <th>Text</th>\n",
              "      <th>Category</th>\n",
              "    </tr>\n",
              "  </thead>\n",
              "  <tbody>\n",
              "    <tr>\n",
              "      <th>0</th>\n",
              "      <td>Ad sales boost Time Warner profit\\n \\n Quarter...</td>\n",
              "      <td>business</td>\n",
              "    </tr>\n",
              "    <tr>\n",
              "      <th>1</th>\n",
              "      <td>Dollar gains on Greenspan speech\\n \\n The doll...</td>\n",
              "      <td>business</td>\n",
              "    </tr>\n",
              "    <tr>\n",
              "      <th>2</th>\n",
              "      <td>Yukos unit buyer faces loan claim\\n \\n The own...</td>\n",
              "      <td>business</td>\n",
              "    </tr>\n",
              "    <tr>\n",
              "      <th>3</th>\n",
              "      <td>High fuel prices hit BA's profits\\n \\n British...</td>\n",
              "      <td>business</td>\n",
              "    </tr>\n",
              "    <tr>\n",
              "      <th>4</th>\n",
              "      <td>Pernod takeover talk lifts Domecq\\n \\n Shares ...</td>\n",
              "      <td>business</td>\n",
              "    </tr>\n",
              "    <tr>\n",
              "      <th>...</th>\n",
              "      <td>...</td>\n",
              "      <td>...</td>\n",
              "    </tr>\n",
              "    <tr>\n",
              "      <th>1854</th>\n",
              "      <td>Warnings on woeful wi-fi security\\n \\n Compani...</td>\n",
              "      <td>tech</td>\n",
              "    </tr>\n",
              "    <tr>\n",
              "      <th>1855</th>\n",
              "      <td>Cebit opens to mobile music tune\\n \\n Cebit, t...</td>\n",
              "      <td>tech</td>\n",
              "    </tr>\n",
              "    <tr>\n",
              "      <th>1856</th>\n",
              "      <td>Game makers get Xbox 2 sneak peek\\n \\n Microso...</td>\n",
              "      <td>tech</td>\n",
              "    </tr>\n",
              "    <tr>\n",
              "      <th>1857</th>\n",
              "      <td>Broadband set to revolutionise TV\\n \\n BT is s...</td>\n",
              "      <td>tech</td>\n",
              "    </tr>\n",
              "    <tr>\n",
              "      <th>1858</th>\n",
              "      <td>[\u0000.\u0000S\u0000h\u0000e\u0000l\u0000l\u0000C\u0000l\u0000a\u0000s\u0000s\u0000I\u0000n\u0000f\u0000o\u0000]\u0000\\n \u0000\\n \u0000C\u0000o\u0000...</td>\n",
              "      <td>tech</td>\n",
              "    </tr>\n",
              "  </tbody>\n",
              "</table>\n",
              "<p>1859 rows × 2 columns</p>\n",
              "</div>"
            ],
            "text/plain": [
              "                                                   Text  Category\n",
              "0     Ad sales boost Time Warner profit\\n \\n Quarter...  business\n",
              "1     Dollar gains on Greenspan speech\\n \\n The doll...  business\n",
              "2     Yukos unit buyer faces loan claim\\n \\n The own...  business\n",
              "3     High fuel prices hit BA's profits\\n \\n British...  business\n",
              "4     Pernod takeover talk lifts Domecq\\n \\n Shares ...  business\n",
              "...                                                 ...       ...\n",
              "1854  Warnings on woeful wi-fi security\\n \\n Compani...      tech\n",
              "1855  Cebit opens to mobile music tune\\n \\n Cebit, t...      tech\n",
              "1856  Game makers get Xbox 2 sneak peek\\n \\n Microso...      tech\n",
              "1857  Broadband set to revolutionise TV\\n \\n BT is s...      tech\n",
              "1858  [\u0000.\u0000S\u0000h\u0000e\u0000l\u0000l\u0000C\u0000l\u0000a\u0000s\u0000s\u0000I\u0000n\u0000f\u0000o\u0000]\u0000\\n \u0000\\n \u0000C\u0000o\u0000...      tech\n",
              "\n",
              "[1859 rows x 2 columns]"
            ]
          },
          "execution_count": 34,
          "metadata": {},
          "output_type": "execute_result"
        }
      ],
      "source": [
        "df = read_data('./Data/bbc_train')\n",
        "df"
      ]
    },
    {
      "cell_type": "code",
      "execution_count": null,
      "metadata": {
        "id": "ySaoaifAWMVm",
        "outputId": "3c4265a3-6cf1-49dc-a581-928499f44fdf"
      },
      "outputs": [
        {
          "name": "stdout",
          "output_type": "stream",
          "text": [
            "CATEGORIES: ['business' 'entertainment' 'politics' 'sport' 'tech'] \n",
            "\n",
            "DATA SAMPLE: \n",
            "\n",
            "                                                    Text       Category\n",
            "1736  More power to the people says HP\\n \\n The digi...           tech\n",
            "641   Fry set for role in Hitchhiker's\\n \\n Actor St...  entertainment\n",
            "1109  Isinbayeva heads for Birmingham\\n \\n Olympic p...          sport\n",
            "1620  Portable PlayStation ready to go\\n \\n Sony's P...           tech\n",
            "1835  Millions buy MP3 players in US\\n \\n One in 10 ...           tech\n",
            "NUMBER OF SAMPLES IN EACH CATEGORY: \n",
            "\n"
          ]
        },
        {
          "data": {
            "text/plain": [
              "<AxesSubplot:xlabel='Category', ylabel='count'>"
            ]
          },
          "execution_count": 35,
          "metadata": {},
          "output_type": "execute_result"
        },
        {
          "data": {
            "image/png": "[encoded data removed]",
            "text/plain": [
              "<Figure size 432x288 with 1 Axes>"
            ]
          },
          "metadata": {
            "needs_background": "light"
          },
          "output_type": "display_data"
        }
      ],
      "source": [
        "# Description of the dataset\n",
        "print('CATEGORIES:', df['Category'].unique(), '\\n\\nDATA SAMPLE: \\n\\n', df.sample(n=5))\n",
        "\n",
        "# Plotting number of samples within each category\n",
        "print('NUMBER OF SAMPLES IN EACH CATEGORY: \\n')\n",
        "sns.countplot(df['Category'])"
      ]
    },
    {
      "cell_type": "code",
      "execution_count": null,
      "metadata": {
        "id": "h9CRAWL-WMVn",
        "outputId": "187f2ceb-3919-49d3-f094-8d7e26df488b"
      },
      "outputs": [
        {
          "name": "stdout",
          "output_type": "stream",
          "text": [
            "Tokenization complete.\n",
            "Stop words removed.\n",
            "Remove numbers, punctuation and special characters.\n",
            "Lemmatization complete.\n",
            "Data cleaning complete.\n",
            "\n"
          ]
        }
      ],
      "source": [
        "# Tokenize\n",
        "df['text_clean'] = df['Text'].apply(nltk.word_tokenize)\n",
        "print('Tokenization complete.')\n",
        "# Remove stop words\n",
        "stop_words=set(nltk.corpus.stopwords.words(\"english\"))\n",
        "df['text_clean'] = df['text_clean'].apply(lambda x: [item for item in x if item not in stop_words])\n",
        "print('Stop words removed.')\n",
        "\n",
        "# Remove numbers, punctuation and special characters (only keep words)\n",
        "pattern = '[A-Za-z]+'\n",
        "df['text_clean'] = df['text_clean'].apply(lambda x: [item for item in x if re.match(pattern,item)])\n",
        "\n",
        "print('Remove numbers, punctuation and special characters.')\n",
        "\n",
        "\n",
        "# Lemmatization\n",
        "lem = nltk.stem.wordnet.WordNetLemmatizer()\n",
        "df['text_clean'] = df['text_clean'].apply(lambda x: [lem.lemmatize(item, pos='v') for item in x])\n",
        "print('Lemmatization complete.\\nData cleaning complete.\\n')"
      ]
    },
    {
      "cell_type": "markdown",
      "metadata": {
        "id": "E36h94l9WMVn"
      },
      "source": [
        "### Tạo Label và sử dụng CountVectorizer"
      ]
    },
    {
      "cell_type": "code",
      "execution_count": null,
      "metadata": {
        "id": "X0ZRCq5SWMVo",
        "outputId": "136aa2a0-4ec7-456f-c9a6-5d8cdf177b40"
      },
      "outputs": [
        {
          "name": "stdout",
          "output_type": "stream",
          "text": [
            "{0: 'business', 1: 'entertainment', 2: 'politics', 3: 'sport', 4: 'tech'}\n"
          ]
        }
      ],
      "source": [
        "# initialize LabelEncoder\n",
        "lencod = LabelEncoder()\n",
        "# fit_transform() converts the text to numbers\n",
        "df['Category'] = lencod.fit_transform(df['Category'])\n",
        "\n",
        "# Create Searching Table\n",
        "key_label = df['Category'].unique()\n",
        "value_label = lencod.inverse_transform(df['Category'].unique())\n",
        "Category_dictionary = dict(zip(key_label,value_label))\n",
        "print(Category_dictionary)\n",
        "\n",
        "\n",
        "#Transform with Countvectorizer\n",
        "X = df['Text']\n",
        "y = df['Category']\n",
        "vectorizer = CountVectorizer(stop_words='english')\n",
        "vectorizer.fit(X)\n",
        "X = vectorizer.transform(X)"
      ]
    },
    {
      "cell_type": "markdown",
      "metadata": {
        "id": "xm7nC2wdWMVo"
      },
      "source": [
        "### Xây dựng Model"
      ]
    },
    {
      "cell_type": "code",
      "execution_count": null,
      "metadata": {
        "id": "GsPT2r5WWMVp"
      },
      "outputs": [],
      "source": [
        "#Split dataset\n",
        "X_train, X_test, y_train, y_test = train_test_split(X, y, test_size=0.2, random_state=42)"
      ]
    },
    {
      "cell_type": "code",
      "execution_count": null,
      "metadata": {
        "id": "wPFFaTxAWMVq"
      },
      "outputs": [],
      "source": [
        "def Cross_Valid_Score(model,X,y,cv = 5):\n",
        "    start = time.time()\n",
        "    scores = cross_val_score(model,X,y,scoring='accuracy',cv = cv)\n",
        "    end = time.time()\n",
        "    return scores.mean(), (end-start)*1000/cv"
      ]
    },
    {
      "cell_type": "code",
      "execution_count": null,
      "metadata": {
        "id": "e_ey2UsYWMVq"
      },
      "outputs": [],
      "source": [
        "def Static_score_model_class(y,y_pred,aver=None):\n",
        "    accuracy = accuracy_score(y,y_pred)\n",
        "    recall = recall_score(y,y_pred,average=aver)\n",
        "    precision = precision_score(y,y_pred,average=aver)\n",
        "    f1 = f1_score(y,y_pred,average=aver)\n",
        "    return accuracy, recall, precision, f1"
      ]
    },
    {
      "cell_type": "code",
      "execution_count": null,
      "metadata": {
        "id": "TGXlgspOWMVr"
      },
      "outputs": [],
      "source": [
        "def ROC_AUC(y,y_prob):\n",
        "    # calculate roc curves\n",
        "    fpr, tpr, threshold = roc_curve(y, y_prob)\n",
        "    # calculate scores\n",
        "    model_auc = roc_auc_score(y, y_prob)\n",
        "    # plot the roc curve for the model\n",
        "    plt.plot([0,1], [0,1], linestyle='--', label='No Skill' )\n",
        "    plt.plot(fpr, tpr, marker='.', label='Model - AUC=%.3f' %  (model_auc))\n",
        "    # show axis labels and the legend\n",
        "    plt.xlabel('False Positive Rate')\n",
        "    plt.ylabel('True Positive Rate')\n",
        "    plt.legend()\n",
        "    plt.show(block=False)\n",
        "    return\n"
      ]
    },
    {
      "cell_type": "code",
      "execution_count": null,
      "metadata": {
        "id": "hFFvZUh4WMVr",
        "outputId": "629b6503-3933-4ee5-cf79-4c3e268ef7f8"
      },
      "outputs": [
        {
          "name": "stdout",
          "output_type": "stream",
          "text": [
            "                    Model     Score     Time Fit\n",
            "0      LogisticRegression  0.970407  1337.472343\n",
            "1           MultinomialNB  0.974451    14.163256\n",
            "2  RandomForestClassifier  0.952930  1169.382620\n",
            "3  DecisionTreeClassifier  0.804942   211.844635\n",
            "4                     SVC  0.946865  2607.839918\n"
          ]
        }
      ],
      "source": [
        "# Evaluate Models:\n",
        "models = [ LogisticRegression(),\n",
        "        MultinomialNB(),\n",
        "        RandomForestClassifier(),\n",
        "        DecisionTreeClassifier(),\n",
        "        SVC()]\n",
        "scores = []\n",
        "names = []\n",
        "\n",
        "for model in models:\n",
        "    scores.append(Cross_Valid_Score(model,X_train,y_train,cv = 5))\n",
        "    names.append(model.__class__.__name__)\n",
        "df_1 = pd.DataFrame(scores,columns=['Score','Time Fit'],index = range(len(models)))\n",
        "df_1.insert(0,'Model',pd.Series(names))\n",
        "print(df_1)"
      ]
    },
    {
      "cell_type": "code",
      "execution_count": null,
      "metadata": {
        "id": "5r08OxRZWMVs"
      },
      "outputs": [],
      "source": [
        "### Choose Naives Bayes"
      ]
    },
    {
      "cell_type": "code",
      "execution_count": null,
      "metadata": {
        "id": "Nqt7_NUkWMVs"
      },
      "outputs": [],
      "source": [
        "param = { 'alpha': np.linspace(0.01, 1, 5), 'fit_prior': [True, False] }\n",
        "model = MultinomialNB()"
      ]
    },
    {
      "cell_type": "code",
      "execution_count": null,
      "metadata": {
        "id": "bUSKAVQLWMVs",
        "outputId": "c453e907-99d7-4dfc-bae2-a16242fdc218"
      },
      "outputs": [
        {
          "data": {
            "text/plain": [
              "GridSearchCV(cv=5, error_score=0, estimator=MultinomialNB(),\n",
              "             param_grid={'alpha': array([0.01  , 0.2575, 0.505 , 0.7525, 1.    ]),\n",
              "                         'fit_prior': [True, False]})"
            ]
          },
          "execution_count": 20,
          "metadata": {},
          "output_type": "execute_result"
        }
      ],
      "source": [
        "# Model_Tunning(models,params,X_train,y_train)\n",
        "gs = GridSearchCV(model, param, cv=5, error_score=0)\n",
        "gs.fit(X_train, y_train)\n"
      ]
    },
    {
      "cell_type": "markdown",
      "metadata": {
        "id": "FyiTzc5iWMVs"
      },
      "source": [
        "### Đánh giá Model"
      ]
    },
    {
      "cell_type": "code",
      "execution_count": null,
      "metadata": {
        "id": "takEq0eIWMVt",
        "outputId": "f056da32-2bb1-4494-9666-46f177cec032"
      },
      "outputs": [
        {
          "data": {
            "text/plain": [
              "0.9939475453934096"
            ]
          },
          "execution_count": 21,
          "metadata": {},
          "output_type": "execute_result"
        }
      ],
      "source": [
        "\n",
        "gs.score(X_train, y_train)\n"
      ]
    },
    {
      "cell_type": "code",
      "execution_count": null,
      "metadata": {
        "id": "C04CSuDhWMVt",
        "outputId": "897d88db-79f4-450a-8119-4b8e0d815954"
      },
      "outputs": [
        {
          "name": "stdout",
          "output_type": "stream",
          "text": [
            "0.9650537634408602 0.9650537634408602 0.9650537634408602 0.9650537634408602\n"
          ]
        }
      ],
      "source": [
        "# Đánh giá tập Test\n",
        "y_pred = gs.predict(X_test)\n",
        "score,recall,prec,f1 = Static_score_model_class(y_test,y_pred,aver='micro')\n",
        "print(score,recall,prec,f1)"
      ]
    },
    {
      "cell_type": "code",
      "execution_count": null,
      "metadata": {
        "id": "0SGiTBKwWMVu",
        "outputId": "28d27991-947e-4dd6-ddfb-a2ba2479327f"
      },
      "outputs": [
        {
          "data": {
            "text/plain": [
              "<sklearn.metrics._plot.confusion_matrix.ConfusionMatrixDisplay at 0x2c768bfefa0>"
            ]
          },
          "execution_count": 23,
          "metadata": {},
          "output_type": "execute_result"
        },
        {
          "data": {
            "image/png": "[encoded data removed]",
            "text/plain": [
              "<Figure size 432x288 with 2 Axes>"
            ]
          },
          "metadata": {
            "needs_background": "light"
          },
          "output_type": "display_data"
        }
      ],
      "source": [
        "plot_confusion_matrix(gs,X_test , y_test,cmap=plt.cm.Blues) "
      ]
    },
    {
      "cell_type": "code",
      "execution_count": null,
      "metadata": {
        "id": "UoETZip3WMVu"
      },
      "outputs": [],
      "source": [
        "## Model tốt"
      ]
    },
    {
      "cell_type": "code",
      "execution_count": null,
      "metadata": {
        "id": "XySyhlBeWMVu"
      },
      "outputs": [],
      "source": [
        "#Ghi Model\n",
        "\n",
        "def Save_Object(obj,filename):\n",
        "    with open(filename,'wb') as file:\n",
        "        pickle.dump(obj,file)\n",
        "    return\n",
        "\n",
        "def Load_Object(filename):\n",
        "    with open(filename,'rb') as file:\n",
        "        obj = pickle.load(file)\n",
        "    return obj"
      ]
    },
    {
      "cell_type": "code",
      "execution_count": null,
      "metadata": {
        "id": "zfjVvsIQWMVu"
      },
      "outputs": [],
      "source": [
        "# Đọc dữ liệu từ folder test\n",
        "def test_files(data_folder):\n",
        "    news = []\n",
        "    types = []\n",
        "    count = 0\n",
        "    for root, dirs, files in os.walk(data_folder, topdown=False):\n",
        "        if len(dirs) != 0:\n",
        "            folder_file = dirs\n",
        "\n",
        "\n",
        "    for root, dirs, files in os.walk(data_folder, topdown=False):               \n",
        "            if len(dirs) == 0:\n",
        "                for text_file in files:\n",
        "                    text_file = os.path.join(root, text_file)\n",
        "                    with open(text_file, errors = 'replace') as f:\n",
        "                        text = f.readlines()\n",
        "                    text = \" \".join(text)\n",
        "                    news.append(text)\n",
        "                    types.append(folder_file[count])\n",
        "                count += 1\n",
        "    df = {'Text': news,'Category': types}\n",
        "    df = pd.DataFrame(df)\n",
        "    return df"
      ]
    },
    {
      "cell_type": "code",
      "execution_count": null,
      "metadata": {
        "id": "nZCdZuDoWMVv"
      },
      "outputs": [],
      "source": [
        "model = gs\n",
        "Save_Object(model,\"bbc_filter.pkl\")\n",
        "Save_Object(vectorizer,\"vectorizer.pkl\")"
      ]
    },
    {
      "cell_type": "markdown",
      "metadata": {
        "id": "mr7r3NZPWMVv"
      },
      "source": [
        "### Nguời sử dụng model"
      ]
    },
    {
      "cell_type": "code",
      "execution_count": null,
      "metadata": {
        "id": "eAWXyiJTWMVv"
      },
      "outputs": [],
      "source": [
        "my_model = Load_Object(\"bbc_filter.pkl\")\n",
        "my_vectorizer = Load_Object(\"vectorizer.pkl\")\n",
        "Category_dictionary = {0: 'business', 1: 'entertainment', 2: 'politics', 3: 'sport', 4: 'tech'}"
      ]
    },
    {
      "cell_type": "markdown",
      "metadata": {
        "id": "tEMLzkMvWMVv"
      },
      "source": [
        "### Áp dụng model với dữ liệu test"
      ]
    },
    {
      "cell_type": "code",
      "execution_count": null,
      "metadata": {
        "id": "d0Lml41zWMVv"
      },
      "outputs": [],
      "source": [
        "df = test_files('./Data/bbc_test')\n",
        "X_new = df['Text']\n",
        "X_new = my_vectorizer.transform(X_new)\n",
        "y_pred_new = my_model.predict(X_new)"
      ]
    },
    {
      "cell_type": "markdown",
      "metadata": {
        "id": "wUfYu_yUWMVw"
      },
      "source": [
        "### Dự đoán phân loại news"
      ]
    },
    {
      "cell_type": "code",
      "execution_count": null,
      "metadata": {
        "id": "yXD7zBvIWMVw"
      },
      "outputs": [],
      "source": [
        "list_pred = []\n",
        "for i in y_pred_new:\n",
        "    list_pred.append(Category_dictionary.get(i))\n",
        "df['predict'] = list_pred\n",
        "df\n",
        "df.to_csv('Result.csv')"
      ]
    },
    {
      "cell_type": "code",
      "execution_count": null,
      "metadata": {
        "id": "HufgdMvfWMVw"
      },
      "outputs": [],
      "source": [
        ""
      ]
    },
    {
      "cell_type": "code",
      "execution_count": null,
      "metadata": {
        "id": "ZJCmORh_WMVw"
      },
      "outputs": [],
      "source": [
        ""
      ]
    }
  ],
  "metadata": {
    "kernelspec": {
      "display_name": "Python 3",
      "language": "python",
      "name": "python3"
    },
    "language_info": {
      "codemirror_mode": {
        "name": "ipython",
        "version": 3
      },
      "file_extension": ".py",
      "mimetype": "text/x-python",
      "name": "python",
      "nbconvert_exporter": "python",
      "pygments_lexer": "ipython3",
      "version": "3.8.5"
    },
    "colab": {
      "name": "LDS6_PhamNgocHung_GiuaKy.ipynb",
      "provenance": [],
      "include_colab_link": true
    }
  },
  "nbformat": 4,
  "nbformat_minor": 0
}